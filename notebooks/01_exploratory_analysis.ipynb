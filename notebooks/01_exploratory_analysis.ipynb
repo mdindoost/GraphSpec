
"""
Example notebook content - save as .ipynb
"""

NOTEBOOK_CONTENT = """
{
 "cells": [
  {
   "cell_type": "markdown",
   "metadata": {},
   "source": [
    "# Exploratory Analysis\\n",
    "\\n",
    "This notebook explores the datasets and transformations."
   ]
  },
  {
   "cell_type": "code",
   "execution_count": null,
   "metadata": {},
   "outputs": [],
   "source": [
    "import sys\\n",
    "sys.path.append('..')\\n",
    "\\n",
    "import numpy as np\\n",
    "import matplotlib.pyplot as plt\\n",
    "from torch_geometric.datasets import Planetoid\\n",
    "from src.data.graph_utils import compute_normalized_laplacian, compute_homophily\\n",
    "from src.transformations.eigenspace import EigenspaceTransformation"
   ]
  },
  {
   "cell_type": "code",
   "execution_count": null,
   "metadata": {},
   "outputs": [],
   "source": [
    "# Load dataset\\n",
    "dataset = Planetoid(root='../data/raw', name='Cora')\\n",
    "data = dataset[0]\\n",
    "\\n",
    "print(f'Dataset: {dataset.name}')\\n",
    "print(f'Nodes: {data.num_nodes}')\\n",
    "print(f'Edges: {data.num_edges}')\\n",
    "print(f'Features: {data.num_features}')\\n",
    "print(f'Classes: {dataset.num_classes}')"
   ]
  },
  {
   "cell_type": "code",
   "execution_count": null,
   "metadata": {},
   "outputs": [],
   "source": [
    "# Compute homophily\\n",
    "homophily = compute_homophily(data.edge_index.numpy(), data.y.numpy())\\n",
    "print(f'Edge Homophily: {homophily:.4f}')"
   ]
  },
  {
   "cell_type": "code",
   "execution_count": null,
   "metadata": {},
   "outputs": [],
   "source": [
    "# Compute eigenspace\\n",
    "X_np = data.x.numpy()\\n",
    "L_norm = compute_normalized_laplacian(data.edge_index.numpy(), data.num_nodes)\\n",
    "\\n",
    "eigen_transform = EigenspaceTransformation()\\n",
    "X_eigen = eigen_transform.fit_transform(X_np, L_norm)\\n",
    "\\n",
    "# Plot eigenvalue spectrum\\n",
    "eigenvalues = eigen_transform.eigenvalues\\n",
    "plt.figure(figsize=(10, 5))\\n",
    "plt.plot(eigenvalues)\\n",
    "plt.xlabel('Index')\\n",
    "plt.ylabel('Eigenvalue')\\n",
    "plt.title('Eigenvalue Spectrum')\\n",
    "plt.grid(True)\\n",
    "plt.show()"
   ]
  }
 ],
 "metadata": {
  "kernelspec": {
   "display_name": "Python 3",
   "language": "python",
   "name": "python3"
  }
 },
 "nbformat": 4,
 "nbformat_minor": 4
}
"""
